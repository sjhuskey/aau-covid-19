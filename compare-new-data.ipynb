{
 "cells": [
  {
   "cell_type": "code",
   "execution_count": 1,
   "metadata": {},
   "outputs": [],
   "source": [
    "'''\n",
    "This notebook helps to identify changes in the updated data.\n",
    "'''\n",
    "import pandas as pd\n",
    "from datetime import datetime\n",
    "from datetime import timedelta\n",
    "import pytz"
   ]
  },
  {
   "cell_type": "code",
   "execution_count": 2,
   "metadata": {},
   "outputs": [],
   "source": [
    "# Get the dates for the sake of comparison later.\n",
    "# Thanks to https://stackoverflow.com/a/15307743/2943704.\n",
    "today = datetime.utcnow()\n",
    "yesterday = today - timedelta(days = 1)\n",
    "utc = pytz.UTC\n",
    "today = str(today.date())\n",
    "yesterday = str(yesterday.date())"
   ]
  },
  {
   "cell_type": "code",
   "execution_count": 3,
   "metadata": {},
   "outputs": [],
   "source": [
    "# Open the new data file\n",
    "newdata = pd.read_csv('data/data-7G1ie.csv')"
   ]
  },
  {
   "cell_type": "code",
   "execution_count": 4,
   "metadata": {},
   "outputs": [],
   "source": [
    "# Convert the dates to UTC datetime.\n",
    "newdata['Announce date'] = pd.to_datetime(newdata['Announce date'], utc=True, errors='coerce')\n",
    "# Convert the datetime to a date.\n",
    "newdata['Announce date'] = pd.to_datetime(newdata['Announce date']).dt.date\n",
    "# Filter out the null values.\n",
    "newdata = newdata[newdata['Announce date'].notnull()]\n",
    "# Convert the dates to a string, since comparing dates is apparently too hard for Python?\n",
    "newdata['Announce date'] = newdata['Announce date'].apply(lambda x: str(x))"
   ]
  },
  {
   "cell_type": "code",
   "execution_count": 5,
   "metadata": {},
   "outputs": [],
   "source": [
    "# Compare the new dates to yesterday's date.\n",
    "newdata = newdata[newdata['Announce date'] >= yesterday]"
   ]
  },
  {
   "cell_type": "code",
   "execution_count": 6,
   "metadata": {},
   "outputs": [
    {
     "data": {
      "text/html": [
       "<div>\n",
       "<style scoped>\n",
       "    .dataframe tbody tr th:only-of-type {\n",
       "        vertical-align: middle;\n",
       "    }\n",
       "\n",
       "    .dataframe tbody tr th {\n",
       "        vertical-align: top;\n",
       "    }\n",
       "\n",
       "    .dataframe thead th {\n",
       "        text-align: right;\n",
       "    }\n",
       "</style>\n",
       "<table border=\"1\" class=\"dataframe\">\n",
       "  <thead>\n",
       "    <tr style=\"text-align: right;\">\n",
       "      <th></th>\n",
       "      <th>College</th>\n",
       "      <th>Announce date</th>\n",
       "      <th>Type</th>\n",
       "      <th>State  ^Color denotes 2020 presidential result^</th>\n",
       "      <th>Employees  ^(Vaccination required)^</th>\n",
       "      <th>All students  ^(Vaccination required)^</th>\n",
       "      <th>Only residential students  ^(Vaccination required)^</th>\n",
       "      <th>state_pol</th>\n",
       "    </tr>\n",
       "  </thead>\n",
       "  <tbody>\n",
       "    <tr>\n",
       "      <th>940</th>\n",
       "      <td>[University of Utah](https://coronavirus.utah....</td>\n",
       "      <td>2021-09-08</td>\n",
       "      <td>Public</td>\n",
       "      <td>UT</td>\n",
       "      <td>--</td>\n",
       "      <td>✓</td>\n",
       "      <td>--</td>\n",
       "      <td>R</td>\n",
       "    </tr>\n",
       "  </tbody>\n",
       "</table>\n",
       "</div>"
      ],
      "text/plain": [
       "                                               College Announce date    Type  \\\n",
       "940  [University of Utah](https://coronavirus.utah....    2021-09-08  Public   \n",
       "\n",
       "    State  ^Color denotes 2020 presidential result^  \\\n",
       "940                                              UT   \n",
       "\n",
       "    Employees  ^(Vaccination required)^  \\\n",
       "940                                  --   \n",
       "\n",
       "    All students  ^(Vaccination required)^  \\\n",
       "940                                      ✓   \n",
       "\n",
       "    Only residential students  ^(Vaccination required)^ state_pol  \n",
       "940                                                 --          R  "
      ]
     },
     "execution_count": 6,
     "metadata": {},
     "output_type": "execute_result"
    }
   ],
   "source": [
    "newdata"
   ]
  },
  {
   "cell_type": "code",
   "execution_count": 8,
   "metadata": {},
   "outputs": [],
   "source": [
    "# Export the data.\n",
    "filename = 'data/' + yesterday + '.csv'\n",
    "newdata.to_csv(filename, index=False)"
   ]
  },
  {
   "cell_type": "code",
   "execution_count": null,
   "metadata": {},
   "outputs": [],
   "source": []
  }
 ],
 "metadata": {
  "kernelspec": {
   "display_name": "Python 3",
   "language": "python",
   "name": "python3"
  },
  "language_info": {
   "codemirror_mode": {
    "name": "ipython",
    "version": 3
   },
   "file_extension": ".py",
   "mimetype": "text/x-python",
   "name": "python",
   "nbconvert_exporter": "python",
   "pygments_lexer": "ipython3",
   "version": "3.7.11"
  }
 },
 "nbformat": 4,
 "nbformat_minor": 4
}
